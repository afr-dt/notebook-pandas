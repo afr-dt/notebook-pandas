{
 "cells": [
  {
   "cell_type": "code",
   "execution_count": 7,
   "metadata": {},
   "outputs": [
    {
     "name": "stdout",
     "output_type": "stream",
     "text": [
      "   Nombre Calificaciones    Deportes       Materas\n",
      "0   Fanny            100      Futbol    Algoritmos\n",
      "1   Jaqui             90         Box       Calculo\n",
      "2  Brenda             97      Karate       Algebra\n",
      "3    Memo             98        Judo        Fisica\n",
      "4    Emma             89  Basquetbol       Quimica\n",
      "5   Diana             92     Beisbol  Programacion\n",
      "6    Alex             89    Natacion        DevOps\n"
     ]
    }
   ],
   "source": [
    "import pandas as pd\n",
    "\n",
    "# dictionary\n",
    "\n",
    "data = { \n",
    "    'Nombre': ['Fanny', 'Jaqui', 'Brenda', 'Memo', 'Emma', 'Diana', 'Alex'],\n",
    "    'Calificaciones': ['100', '90', '97', '98', '89', '92', '89'],\n",
    "    'Deportes': ['Futbol', 'Box', 'Karate', 'Judo', 'Basquetbol', 'Beisbol', 'Natacion'],\n",
    "    'Materas': ['Algoritmos', 'Calculo', 'Algebra', 'Fisica', 'Quimica', 'Programacion', 'DevOps']\n",
    "}\n",
    "\n",
    "df = pd.DataFrame(data)\n",
    "print(df)\n"
   ]
  },
  {
   "cell_type": "code",
   "execution_count": null,
   "metadata": {},
   "outputs": [],
   "source": []
  }
 ],
 "metadata": {
  "kernelspec": {
   "display_name": "Python 3",
   "language": "python",
   "name": "python3"
  },
  "language_info": {
   "codemirror_mode": {
    "name": "ipython",
    "version": 3
   },
   "file_extension": ".py",
   "mimetype": "text/x-python",
   "name": "python",
   "nbconvert_exporter": "python",
   "pygments_lexer": "ipython3",
   "version": "3.6.2"
  }
 },
 "nbformat": 4,
 "nbformat_minor": 2
}
